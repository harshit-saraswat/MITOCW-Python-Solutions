{
 "cells": [
  {
   "cell_type": "markdown",
   "metadata": {},
   "source": [
    "# Practice Set 0"
   ]
  },
  {
   "cell_type": "code",
   "execution_count": 3,
   "metadata": {},
   "outputs": [
    {
     "name": "stdout",
     "output_type": "stream",
     "text": [
      "Enter a number: 2\n",
      "Enter another number: 3\n",
      "2 raised to power 3= 8\n",
      "Log base 2 value for 2= 1.0\n"
     ]
    }
   ],
   "source": [
    "import numpy as np\n",
    "num=int(input('Enter a number: '))\n",
    "power=int(input('Enter another number: '))\n",
    "print(str(num)+' raised to power '+str(power)+'= '+str(num**power))\n",
    "print('Log base 2 value for '+str(num)+'= '+str(np.log2(num)))"
   ]
  },
  {
   "cell_type": "markdown",
   "metadata": {},
   "source": [
    "# Practice Set 1"
   ]
  },
  {
   "cell_type": "code",
   "execution_count": 1,
   "metadata": {},
   "outputs": [
    {
     "data": {
      "text/plain": [
       "'Params:\\ntotal_cost= Cost of dream House\\nportion_down_payment= Portion of house for downpayment(0.25 here)\\ncurrent_savings=Amount saved yet (start with 0)\\nr=Return on investment on current savings(0.04 here)\\nannual_salary=Annual Salary\\nportion_saved= Perecentage of salary saved each month\\ncurrent_savings= current_savings*r/12 + annual_salary/12\\n\\nsemi_annual_raise= Percentage raise in current salary after every 6 months, in decimals\\n\\nO/P: num_of_months= Number of months required to save money\\n'"
      ]
     },
     "execution_count": 1,
     "metadata": {},
     "output_type": "execute_result"
    }
   ],
   "source": [
    "\"\"\"Params:\n",
    "total_cost= Cost of dream House\n",
    "portion_down_payment= Portion of house for downpayment(0.25 here)\n",
    "current_savings=Amount saved yet (start with 0)\n",
    "r=Return on investment on current savings(0.04 here)\n",
    "annual_salary=Annual Salary\n",
    "portion_saved= Perecentage of salary saved each month\n",
    "current_savings= current_savings*r/12 + annual_salary/12\n",
    "\n",
    "semi_annual_raise= Percentage raise in current salary after every 6 months, in decimals\n",
    "\n",
    "O/P: num_of_months= Number of months required to save money\n",
    "\"\"\""
   ]
  },
  {
   "cell_type": "code",
   "execution_count": 2,
   "metadata": {},
   "outputs": [
    {
     "name": "stdout",
     "output_type": "stream",
     "text": [
      "Enter your annual salary: 120000\n",
      "Enter the percentage of salary you want to save in decimals: .1\n",
      "Enter the cost of your dream home: 1000000\n",
      "Number of months: 183\n"
     ]
    }
   ],
   "source": [
    "#PS1A\n",
    "annual_salary=float(input('Enter your annual salary: '))\n",
    "portion_saved=float(input('Enter the percentage of salary you want to save in decimals: '))\n",
    "total_cost=float(input('Enter the cost of your dream home: '))\n",
    "portion_down_payment=total_cost*0.25\n",
    "current_savings=float(0)\n",
    "num_of_months=0\n",
    "r=0.04\n",
    "monthly_salary=annual_salary/12\n",
    "\n",
    "while current_savings<=portion_down_payment:\n",
    "    investment=current_savings*r/12\n",
    "    current_savings+=investment+(monthly_salary*portion_saved)\n",
    "    num_of_months+=1\n",
    "    \n",
    "print('Number of months: '+str(num_of_months))"
   ]
  },
  {
   "cell_type": "code",
   "execution_count": 28,
   "metadata": {},
   "outputs": [
    {
     "name": "stdout",
     "output_type": "stream",
     "text": [
      "Enter your annual salary: 150000\n",
      "Enter the percentage of salary you want to save in decimals: 0.43\n",
      "Enter the cost of your dream home: 1000000\n",
      "Enter the semi-annual-raise in decimals0.07\n",
      "Number of months: 37\n"
     ]
    }
   ],
   "source": [
    "#PS1B\n",
    "annual_salary=float(input('Enter your annual salary: '))\n",
    "portion_saved=float(input('Enter the percentage of salary you want to save in decimals: '))\n",
    "total_cost=float(input('Enter the cost of your dream home: '))\n",
    "semi_annual_raise=float(input('Enter the semi-annual-raise in decimals'))\n",
    "portion_down_payment=total_cost*0.25\n",
    "current_savings=float(0)\n",
    "num_of_months=0\n",
    "r=0.04\n",
    "monthly_salary=annual_salary/12\n",
    "\n",
    "while current_savings<=portion_down_payment:\n",
    "    investment=current_savings*r/12\n",
    "    current_savings+=investment+(monthly_salary*portion_saved)\n",
    "    num_of_months+=1\n",
    "    \n",
    "    if num_of_months%6==0:\n",
    "        annual_salary+=annual_salary*semi_annual_raise\n",
    "        monthly_salary=annual_salary/12\n",
    "\n",
    "print('Number of months: '+str(num_of_months))"
   ]
  },
  {
   "cell_type": "code",
   "execution_count": 43,
   "metadata": {},
   "outputs": [
    {
     "name": "stdout",
     "output_type": "stream",
     "text": [
      "Enter starting salary: 150000\n",
      "Rate of saving= 0.44091796875\n",
      "Bisection Search took 11 no. of steps.\n"
     ]
    }
   ],
   "source": [
    "#PS1C\n",
    "starting_salary=float(input('Enter starting salary: '))\n",
    "total_cost=float(1000000)\n",
    "semi_annual_raise=float(0.07)\n",
    "down_payment=total_cost*0.25\n",
    "r=0.04\n",
    "\n",
    "error=100\n",
    "\n",
    "start=0\n",
    "end=10000\n",
    "\n",
    "steps=0\n",
    "\n",
    "portion_saved=(start+end)//2\n",
    "best_portion_saved=portion_saved\n",
    "\n",
    "possibility=True\n",
    "\n",
    "while True:\n",
    "    steps+=1\n",
    "    annual_salary=starting_salary\n",
    "    current_savings=float(0)\n",
    "    best_portion_rate=best_portion_saved/10000\n",
    "    monthly_savings=(annual_salary/12)*best_portion_rate\n",
    "    \n",
    "    for i in range(1,37):\n",
    "        current_savings+=monthly_savings+(current_savings*r/12)\n",
    "        if i%6==0:\n",
    "            annual_salary+=annual_salary*semi_annual_raise\n",
    "            monthly_savings=(annual_salary/12)*best_portion_rate\n",
    "            \n",
    "    if abs(current_savings-down_payment)<=error:\n",
    "        break   \n",
    "    \n",
    "    if(current_savings>down_payment):\n",
    "        end=best_portion_saved\n",
    "    else:\n",
    "        start=best_portion_saved\n",
    "    \n",
    "    if start>=end:\n",
    "        possibility=False\n",
    "        break\n",
    "        \n",
    "    best_portion_saved=(start+end)/2\n",
    "\n",
    "if possibility==False:\n",
    "    print('It is not possible to pay the down payment in 36 months')\n",
    "else:\n",
    "    print('Rate of saving= '+str(best_portion_rate))\n",
    "    print('Bisection Search took '+str(steps)+' no. of steps.')"
   ]
  },
  {
   "cell_type": "code",
   "execution_count": null,
   "metadata": {},
   "outputs": [],
   "source": []
  }
 ],
 "metadata": {
  "kernelspec": {
   "display_name": "Python 3",
   "language": "python",
   "name": "python3"
  },
  "language_info": {
   "codemirror_mode": {
    "name": "ipython",
    "version": 3
   },
   "file_extension": ".py",
   "mimetype": "text/x-python",
   "name": "python",
   "nbconvert_exporter": "python",
   "pygments_lexer": "ipython3",
   "version": "3.7.3"
  }
 },
 "nbformat": 4,
 "nbformat_minor": 2
}
